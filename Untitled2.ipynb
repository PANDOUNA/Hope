{
  "nbformat": 4,
  "nbformat_minor": 0,
  "metadata": {
    "colab": {
      "name": "Untitled2.ipynb",
      "provenance": [],
      "authorship_tag": "ABX9TyNTivppi0Ta5yK4sq3o6DeU",
      "include_colab_link": true
    },
    "kernelspec": {
      "name": "python3",
      "display_name": "Python 3"
    },
    "language_info": {
      "name": "python"
    }
  },
  "cells": [
    {
      "cell_type": "markdown",
      "metadata": {
        "id": "view-in-github",
        "colab_type": "text"
      },
      "source": [
        "<a href=\"https://colab.research.google.com/github/PANDOUNA/Hope/blob/main/Untitled2.ipynb\" target=\"_parent\"><img src=\"https://colab.research.google.com/assets/colab-badge.svg\" alt=\"Open In Colab\"/></a>"
      ]
    },
    {
      "cell_type": "code",
      "metadata": {
        "colab": {
          "base_uri": "https://localhost:8080/"
        },
        "id": "m9vdI6uJ2nDU",
        "outputId": "b7e24fa5-a387-4c61-c20d-64fc22d17c8c"
      },
      "source": [
        "# Question 1:\n",
        "import numpy as np\n",
        "a = np.array([1, 2])\n",
        "b=a.tolist()\n",
        "print(b)"
      ],
      "execution_count": null,
      "outputs": [
        {
          "output_type": "stream",
          "name": "stdout",
          "text": [
            "[1, 2]\n"
          ]
        }
      ]
    },
    {
      "cell_type": "code",
      "metadata": {
        "colab": {
          "base_uri": "https://localhost:8080/"
        },
        "id": "xNhbyXU02_lU",
        "outputId": "48aa01a4-81eb-405e-933a-2c7a888b0cd6"
      },
      "source": [
        "# Question 2:\n",
        "import numpy as np\n",
        "n=np.array([[1,5,6],\n",
        "           [5,64,9],\n",
        "           [6,5,9]])\n",
        "diag=np.diagonal(n)\n",
        "print(sum(diag))"
      ],
      "execution_count": null,
      "outputs": [
        {
          "output_type": "stream",
          "name": "stdout",
          "text": [
            "74\n"
          ]
        }
      ]
    },
    {
      "cell_type": "code",
      "metadata": {
        "colab": {
          "base_uri": "https://localhost:8080/"
        },
        "id": "-4cSEOgh5-Nw",
        "outputId": "4c15f184-9bd6-439c-fffa-90a228abafc3"
      },
      "source": [
        "#Question 3 :\n",
        "import numpy as np\n",
        "np=np.array([5,8,6,4,88])\n",
        "x=7\n",
        "b=0\n",
        "a=\"\"\n",
        "for i in range(0,len(np)):\n",
        "   if x<np[i]:\n",
        "     b=np[i]\n",
        "     a=a+str(b)+\" , \"\n",
        "print(a)\n",
        "\n",
        "#print(np[x<np])\"\n",
        "#kifeh nkolou yaffichihom bahdha baadhom\n",
        "    \n",
        "    "
      ],
      "execution_count": null,
      "outputs": [
        {
          "output_type": "stream",
          "name": "stdout",
          "text": [
            "8 , 88 , \n"
          ]
        }
      ]
    },
    {
      "cell_type": "code",
      "metadata": {
        "colab": {
          "base_uri": "https://localhost:8080/"
        },
        "id": "NCqGi019_r_W",
        "outputId": "524047b1-581c-430a-87f2-2b0f687c3d81"
      },
      "source": [
        "#Question 4 :\n",
        "import numpy as np\n",
        "A=np.array([5,55,8,66])\n",
        "B=np.array([1,33,5,9])\n",
        "C=np.add(A,B)\n",
        "print(C)\n",
        "\n"
      ],
      "execution_count": null,
      "outputs": [
        {
          "output_type": "stream",
          "name": "stdout",
          "text": [
            "[ 6 88 13 75]\n"
          ]
        }
      ]
    },
    {
      "cell_type": "code",
      "metadata": {
        "colab": {
          "base_uri": "https://localhost:8080/"
        },
        "id": "gt-JkGmnCQhU",
        "outputId": "6815831d-0001-4552-a393-b67154fb7922"
      },
      "source": [
        "#Question 5:\n",
        "import numpy as np\n",
        "v=np.array([[5,4,3],\n",
        "           [5,12,36],\n",
        "           [5,6,99]])\n",
        "B=\" \"\n",
        "for row in v:\n",
        "  b=np.mean(row)\n",
        "  for i in row:\n",
        "    a=i-b\n",
        "    B=B+str(a)\n",
        "print(B)\n",
        "  \n",
        "\n"
      ],
      "execution_count": 25,
      "outputs": [
        {
          "output_type": "stream",
          "name": "stdout",
          "text": [
            " 1.00.0-1.0-12.666666666666668-5.66666666666666818.333333333333332-31.666666666666664-30.66666666666666462.333333333333336\n"
          ]
        }
      ]
    }
  ]
}