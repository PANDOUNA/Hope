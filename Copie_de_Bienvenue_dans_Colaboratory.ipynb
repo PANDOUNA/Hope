{
  "nbformat": 4,
  "nbformat_minor": 0,
  "metadata": {
    "colab": {
      "name": "Copie de Bienvenue dans Colaboratory",
      "provenance": [],
      "collapsed_sections": [],
      "toc_visible": true,
      "include_colab_link": true
    },
    "kernelspec": {
      "display_name": "Python 3",
      "name": "python3"
    }
  },
  "cells": [
    {
      "cell_type": "markdown",
      "metadata": {
        "id": "view-in-github",
        "colab_type": "text"
      },
      "source": [
        "<a href=\"https://colab.research.google.com/github/PANDOUNA/Hope/blob/main/Copie_de_Bienvenue_dans_Colaboratory.ipynb\" target=\"_parent\"><img src=\"https://colab.research.google.com/assets/colab-badge.svg\" alt=\"Open In Colab\"/></a>"
      ]
    },
    {
      "cell_type": "markdown",
      "metadata": {
        "id": "5fCEDCU_qrC0"
      },
      "source": [
        "<p><img alt=\"Colaboratory logo\" height=\"45px\" src=\"/img/colab_favicon.ico\" align=\"left\" hspace=\"10px\" vspace=\"0px\"></p>\n",
        "\n",
        "<h1>Qu'est-ce que Colaboratory ?</h1>\n",
        "\n",
        "Colaboratory, souvent raccourci en \"Colab\", vous permet d'écrire et d'exécuter du code Python dans votre navigateur. Il offre les avantages suivants :\n",
        "- Aucune configuration requise\n",
        "- Accès gratuit aux GPU\n",
        "- Partage facile\n",
        "\n",
        "Que vous soyez <strong>étudiant</strong>, <strong>data scientist</strong> ou <strong>chercheur en IA</strong>, Colab peut vous simplifier la tâche. Regardez la <a href=\"https://www.youtube.com/watch?v=inN8seMm7UI\">présentation de Colab</a> pour en savoir plus ou commencez tout de suite."
      ]
    },
    {
      "cell_type": "code",
      "metadata": {
        "id": "UcYYm8aOn2-L",
        "colab": {
          "base_uri": "https://localhost:8080/"
        },
        "outputId": "371ffb5a-c12b-4476-c8c2-9a29231227ad"
      },
      "source": [
        "# Question 2:\n",
        "def last(n):\n",
        "    return n[-1]  \n",
        " \n",
        "def sort(tuples):\n",
        "    return sorted(tuples,key=last)\n",
        "tuples=tuple (input(\"Enter a list of tuples:\"))\n",
        "print(\"Sorted:\")\n",
        "print(sort(tuples))"
      ],
      "execution_count": 13,
      "outputs": [
        {
          "output_type": "stream",
          "text": [
            "Enter a list of tuples:1 2 3\n",
            "Sorted:\n",
            "[' ', ' ', '1', '2', '3']\n"
          ],
          "name": "stdout"
        }
      ]
    },
    {
      "cell_type": "code",
      "metadata": {
        "id": "5Lb8qIP1qs5c"
      },
      "source": [
        "#Question 3:\n",
        "d1={'a':100 ,'b':200,'c':4}\n",
        "d2={'a':100,'b':150 ,'d':5}\n",
        "for x,y in d1.items():\n",
        "   for i,j in d2.items():\n",
        "      if i==x:\n",
        "        d3[i]=(y+j)\n",
        "print(d3)\n"
      ],
      "execution_count": null,
      "outputs": []
    },
    {
      "cell_type": "code",
      "metadata": {
        "id": "9c8YuC3XIePs"
      },
      "source": [
        "#Question 1:\n",
        "a=list(input())\n",
        "d=[]\n",
        "for i in a:\n",
        " d=d[i]*d\n",
        "print(d)   \n",
        "  \n"
      ],
      "execution_count": null,
      "outputs": []
    },
    {
      "cell_type": "code",
      "metadata": {
        "colab": {
          "base_uri": "https://localhost:8080/"
        },
        "id": "-yvxi2NhVQlL",
        "outputId": "06677c55-4229-4d69-f802-032515297ae5"
      },
      "source": [
        "# Question 4:\n",
        "n=int(input(\"entrer un nombre:\"))\n",
        "c={i:i*i for i in range(1,n+1)}\n",
        "print(c)"
      ],
      "execution_count": 12,
      "outputs": [
        {
          "output_type": "stream",
          "text": [
            "entrer un nombre:4\n",
            "{1: 1, 2: 4, 3: 9, 4: 16}\n"
          ],
          "name": "stdout"
        }
      ]
    }
  ]
}