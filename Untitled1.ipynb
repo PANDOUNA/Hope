{
  "nbformat": 4,
  "nbformat_minor": 0,
  "metadata": {
    "colab": {
      "name": "Untitled1.ipynb",
      "provenance": [],
      "authorship_tag": "ABX9TyPYBhUFZD5tu2mJDKdY62pP",
      "include_colab_link": true
    },
    "kernelspec": {
      "name": "python3",
      "display_name": "Python 3"
    },
    "language_info": {
      "name": "python"
    }
  },
  "cells": [
    {
      "cell_type": "markdown",
      "metadata": {
        "id": "view-in-github",
        "colab_type": "text"
      },
      "source": [
        "<a href=\"https://colab.research.google.com/github/PANDOUNA/Hope/blob/main/Untitled1.ipynb\" target=\"_parent\"><img src=\"https://colab.research.google.com/assets/colab-badge.svg\" alt=\"Open In Colab\"/></a>"
      ]
    },
    {
      "cell_type": "code",
      "metadata": {
        "id": "ykMDLCv4-qzU"
      },
      "source": [
        "#Question 1\n",
        "\n",
        "print(\"hello! write your first name\")\n",
        "f=input()\n",
        "print(\"write your last name\")\n",
        "l=input()\n",
        "print(l+\" \"+f)\n"
      ],
      "execution_count": null,
      "outputs": []
    },
    {
      "cell_type": "code",
      "metadata": {
        "id": "WJTBF3WUmkhK"
      },
      "source": [
        ""
      ],
      "execution_count": null,
      "outputs": []
    },
    {
      "cell_type": "code",
      "metadata": {
        "id": "35dR4TPznNRa"
      },
      "source": [
        "\n",
        "\n",
        "#Question 2\n",
        "\n",
        "a=int(input(\"write a number: \"))\n",
        "b=a+a\n",
        "c=a+a+a\n",
        "print('a+b+c=',a+b+c)\n"
      ],
      "execution_count": null,
      "outputs": []
    },
    {
      "cell_type": "code",
      "metadata": {
        "id": "9N2ATO--mmNH"
      },
      "source": [
        "\n",
        "#Question 3:\n",
        "\n",
        "num=int(input(\"write a number: \") )\n",
        "if (num % 2)==0:\n",
        "   print(\"num is even\")\n",
        "else:\n",
        "   print(\"num is odd\") \n",
        "\n"
      ],
      "execution_count": null,
      "outputs": []
    },
    {
      "cell_type": "code",
      "metadata": {
        "colab": {
          "base_uri": "https://localhost:8080/"
        },
        "id": "GBt9iTKtlsfH",
        "outputId": "5937d045-18f1-47ff-8366-8b1e04abd268"
      },
      "source": [
        "#Question 4:\n",
        "s=[]\n",
        "for a in range(2000,3200,1):\n",
        "   if (a % 7)==0 and (a % 5)!=0:\n",
        "     s=str(a)\n",
        "     s2=s2+\" \"+s\n",
        "print(s2)\n",
        "    \n",
        "\n",
        "      "
      ],
      "execution_count": 52,
      "outputs": [
        {
          "output_type": "stream",
          "text": [
            "3199  2002 2009 2016 2023 2037 2044 2051 2058 2072 2079 2086 2093 2107 2114 2121 2128 2142 2149 2156 2163 2177 2184 2191 2198 2212 2219 2226 2233 2247 2254 2261 2268 2282 2289 2296 2303 2317 2324 2331 2338 2352 2359 2366 2373 2387 2394 2401 2408 2422 2429 2436 2443 2457 2464 2471 2478 2492 2499 2506 2513 2527 2534 2541 2548 2562 2569 2576 2583 2597 2604 2611 2618 2632 2639 2646 2653 2667 2674 2681 2688 2702 2709 2716 2723 2737 2744 2751 2758 2772 2779 2786 2793 2807 2814 2821 2828 2842 2849 2856 2863 2877 2884 2891 2898 2912 2919 2926 2933 2947 2954 2961 2968 2982 2989 2996 3003 3017 3024 3031 3038 3052 3059 3066 3073 3087 3094 3101 3108 3122 3129 3136 3143 3157 3164 3171 3178 3192 3199 2002 2009 2016 2023 2037 2044 2051 2058 2072 2079 2086 2093 2107 2114 2121 2128 2142 2149 2156 2163 2177 2184 2191 2198 2212 2219 2226 2233 2247 2254 2261 2268 2282 2289 2296 2303 2317 2324 2331 2338 2352 2359 2366 2373 2387 2394 2401 2408 2422 2429 2436 2443 2457 2464 2471 2478 2492 2499 2506 2513 2527 2534 2541 2548 2562 2569 2576 2583 2597 2604 2611 2618 2632 2639 2646 2653 2667 2674 2681 2688 2702 2709 2716 2723 2737 2744 2751 2758 2772 2779 2786 2793 2807 2814 2821 2828 2842 2849 2856 2863 2877 2884 2891 2898 2912 2919 2926 2933 2947 2954 2961 2968 2982 2989 2996 3003 3017 3024 3031 3038 3052 3059 3066 3073 3087 3094 3101 3108 3122 3129 3136 3143 3157 3164 3171 3178 3192 3199\n"
          ],
          "name": "stdout"
        }
      ]
    },
    {
      "cell_type": "code",
      "metadata": {
        "id": "_v34ycNt5qsA"
      },
      "source": [
        "#Question 5:\n",
        "n=int(input(\"write a number: \",))\n",
        "m=1\n",
        "if n<0:\n",
        "    print(\"factorial doesn't exist for negative numbers\")\n",
        "else:\n",
        "    for i in range(1,n+1,1):\n",
        "     m=m*i\n",
        "    print(\"m!= \", m)\n",
        "    \n"
      ],
      "execution_count": null,
      "outputs": []
    },
    {
      "cell_type": "code",
      "metadata": {
        "id": "6-dLroM7FGpi"
      },
      "source": [
        "# Question 6:\n",
        "s=str(input(\"write a word:\"))\n",
        "n=len(s)\n",
        "s2=\"\"\n",
        "for i in range(0,n,1):\n",
        "  if i % 2 != 0:\n",
        "    s2=s2+s[i]\n",
        "print (\" mot caractère rang paire : \",s2)\n",
        "      \n"
      ],
      "execution_count": null,
      "outputs": []
    },
    {
      "cell_type": "code",
      "metadata": {
        "colab": {
          "base_uri": "https://localhost:8080/"
        },
        "id": "GThfo7g_u_WW",
        "outputId": "abd95239-22f1-421c-8b22-442b106fe3f7"
      },
      "source": [
        "#Question 7:\n",
        "k=int(input(\"print the price of your product;\"))\n",
        "s=k/2\n",
        "t=(k*30)/100\n",
        "d=(k*10)/100\n",
        "if k>=500:\n",
        "  print(\"you will pay:\",s)\n",
        "if(200<=k) and(k<500):\n",
        "  print(\"you will pay:\",k-t)\n",
        "if k <200 :\n",
        "  print(\"you will pay:\",k-d)\n",
        "   "
      ],
      "execution_count": 32,
      "outputs": [
        {
          "output_type": "stream",
          "text": [
            "print the price of your product;200\n",
            "you will pay: 140.0\n"
          ],
          "name": "stdout"
        }
      ]
    }
  ]
}