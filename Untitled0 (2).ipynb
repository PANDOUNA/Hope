{
  "nbformat": 4,
  "nbformat_minor": 0,
  "metadata": {
    "colab": {
      "name": "Untitled0.ipynb",
      "provenance": [],
      "collapsed_sections": []
    },
    "kernelspec": {
      "name": "python3",
      "display_name": "Python 3"
    },
    "language_info": {
      "name": "python"
    }
  },
  "cells": [
    {
      "cell_type": "code",
      "metadata": {
        "id": "CruKBX9Byhb1"
      },
      "source": [
        "# Question 4:\n",
        "class bank:\n",
        "  def __init__(self,balance,amount):\n",
        "     self.balance=balance \n",
        "     self.amount=amount\n",
        "  def deposit(self):\n",
        "     self.balance=balance\n",
        "  def withdraw(self):\n",
        "     if self.balance>= amount:\n",
        "        self.balance-=amount\n",
        "        print(\"your withdrew:\",amount)\n",
        "     else:\n",
        "       print(\"solde insuffisant\")"
      ],
      "execution_count": 12,
      "outputs": []
    },
    {
      "cell_type": "code",
      "metadata": {
        "colab": {
          "base_uri": "https://localhost:8080/",
          "height": 231
        },
        "id": "3LW5zLlr5KYd",
        "outputId": "798ebfef-0fb3-41b4-cecf-edc5169811a3"
      },
      "source": [
        "balance=int(input(\"balance: \"))\n",
        "amount=int(input(\"amount: \"))\n",
        "b1=bank(balance,amount)\n",
        "b1=withdraw()\n"
      ],
      "execution_count": 33,
      "outputs": [
        {
          "output_type": "stream",
          "text": [
            "balance: 4\n",
            "amount: 5\n"
          ],
          "name": "stdout"
        },
        {
          "output_type": "error",
          "ename": "NameError",
          "evalue": "ignored",
          "traceback": [
            "\u001b[0;31m---------------------------------------------------------------------------\u001b[0m",
            "\u001b[0;31mNameError\u001b[0m                                 Traceback (most recent call last)",
            "\u001b[0;32m<ipython-input-33-e2f0c88fa28a>\u001b[0m in \u001b[0;36m<module>\u001b[0;34m()\u001b[0m\n\u001b[1;32m      2\u001b[0m \u001b[0mamount\u001b[0m\u001b[0;34m=\u001b[0m\u001b[0mint\u001b[0m\u001b[0;34m(\u001b[0m\u001b[0minput\u001b[0m\u001b[0;34m(\u001b[0m\u001b[0;34m\"amount: \"\u001b[0m\u001b[0;34m)\u001b[0m\u001b[0;34m)\u001b[0m\u001b[0;34m\u001b[0m\u001b[0;34m\u001b[0m\u001b[0m\n\u001b[1;32m      3\u001b[0m \u001b[0mb1\u001b[0m\u001b[0;34m=\u001b[0m\u001b[0mbank\u001b[0m\u001b[0;34m(\u001b[0m\u001b[0mbalance\u001b[0m\u001b[0;34m,\u001b[0m\u001b[0mamount\u001b[0m\u001b[0;34m)\u001b[0m\u001b[0;34m\u001b[0m\u001b[0;34m\u001b[0m\u001b[0m\n\u001b[0;32m----> 4\u001b[0;31m \u001b[0mb1\u001b[0m\u001b[0;34m=\u001b[0m\u001b[0mwithdraw\u001b[0m\u001b[0;34m(\u001b[0m\u001b[0;34m)\u001b[0m\u001b[0;34m\u001b[0m\u001b[0;34m\u001b[0m\u001b[0m\n\u001b[0m",
            "\u001b[0;31mNameError\u001b[0m: name 'withdraw' is not defined"
          ]
        }
      ]
    },
    {
      "cell_type": "code",
      "metadata": {
        "colab": {
          "base_uri": "https://localhost:8080/"
        },
        "id": "3HcWO7Nx67Ex",
        "outputId": "0b3f92ad-330f-46b9-a168-771cd10372ed"
      },
      "source": [
        "# Question 1:\n",
        "class Point3D:\n",
        "    def __init__(self,x,y,z):\n",
        "        self.dim1=x\n",
        "        self.dim2=y\n",
        "        self.dim3=z\n",
        "    def coord(self):\n",
        "        c= [self.dim1,self.dim2,self.dim3]\n",
        "        return c\n",
        "\n",
        "mypoint=Point3D(1,2,3)\n",
        "\n",
        "print(mypoint.coord())"
      ],
      "execution_count": 34,
      "outputs": [
        {
          "output_type": "stream",
          "text": [
            "[1, 2, 3]\n"
          ],
          "name": "stdout"
        }
      ]
    },
    {
      "cell_type": "code",
      "metadata": {
        "id": "uDcXr8mB7F92"
      },
      "source": [
        "# Question 2:\n",
        "class Rectangle:\n",
        "    def __init__(self,o,t):\n",
        "        self.toul=t\n",
        "        self.ordh=o\n",
        "    def per(self):\n",
        "         p= (self.toul+ self.ordh)*2\n",
        "         return(p)\n",
        "    def area(self):\n",
        "         a=self.toul*self.ordh\n",
        "         return (a)\n",
        "\n",
        "mostatil= Rectangle(5,4)\n",
        "\n",
        "print(mostatil.area())\n",
        "print(mostatil.per())"
      ],
      "execution_count": null,
      "outputs": []
    },
    {
      "cell_type": "code",
      "metadata": {
        "id": "EUyHQa6E7ThI"
      },
      "source": [
        "# Question 3:\n",
        "\n",
        "class circle:\n",
        "  def __init__(self,o,r):\n",
        "    self.centre=o\n",
        "    self.radius=r\n",
        "  def area(self):\n",
        "    a=self.radius**2*3.14\n",
        "    return (a)\n",
        "  def per(self):\n",
        "    p=self.radius*2*3.14\n",
        "    return (p)\n",
        "  def isinside(self,x,y):\n",
        "    if (x**2)+(y**2)==self.radius**2:\n",
        "      print(\"A belongs to the circle C(O, r)\")\n",
        "    else:\n",
        "      print(\"A doesn't belong to c(o,r)\")\n",
        "     \n",
        "    \n",
        "\n",
        "\n",
        "\n",
        "\n",
        "\n"
      ],
      "execution_count": 45,
      "outputs": []
    },
    {
      "cell_type": "code",
      "metadata": {
        "colab": {
          "base_uri": "https://localhost:8080/"
        },
        "id": "aFIFCH8QVwht",
        "outputId": "45ee46c0-b143-482c-9d91-da952ff74db1"
      },
      "source": [
        "x=int(input(\"write a number\"))\n",
        "y=int(input(\"write a number\"))\n",
        "centre=int(input(\"centre: \"))\n",
        "radius=int(input(\"radius: \"))\n",
        "c1=circle(5,4)\n",
        "print(c1.area())\n",
        "print(c1.per())\n",
        "print(c1.isinside(x,y))"
      ],
      "execution_count": 46,
      "outputs": [
        {
          "output_type": "stream",
          "text": [
            "write a number5\n",
            "write a number8\n",
            "centre: 5\n",
            "radius: 5\n",
            "50.24\n",
            "25.12\n",
            "A doesn't belong to c(o,r)\n",
            "None\n"
          ],
          "name": "stdout"
        }
      ]
    },
    {
      "cell_type": "code",
      "metadata": {
        "id": "CS4C3Aadeqcp"
      },
      "source": [
        ""
      ],
      "execution_count": null,
      "outputs": []
    }
  ]
}